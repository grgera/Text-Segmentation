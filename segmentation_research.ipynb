{
  "nbformat": 4,
  "nbformat_minor": 0,
  "metadata": {
    "colab": {
      "name": "segmentation_research.ipynb",
      "provenance": [],
      "collapsed_sections": []
    },
    "kernelspec": {
      "name": "python3",
      "display_name": "Python 3"
    },
    "language_info": {
      "name": "python"
    },
    "gpuClass": "standard",
    "accelerator": "GPU"
  },
  "cells": [
    {
      "cell_type": "markdown",
      "source": [
        "# **Text Segmentation Experiments**"
      ],
      "metadata": {
        "id": "JDTdI4zf4Obm"
      }
    },
    {
      "cell_type": "markdown",
      "source": [
        "В данном ноутбуке я покажу эксперименты с различными моделями, которые я подобрал для решения задачи сегментации текстов. "
      ],
      "metadata": {
        "id": "4SYo9WoS7Utp"
      }
    },
    {
      "cell_type": "markdown",
      "source": [
        "***Суть задачи:*** разбиение текста на части, состоящие из близких по смыслу и теме предложений. \\\n",
        "***Данные:*** набор текстов историй с сайта tjournal \\\n",
        "***Метки предложений:*** 0 - предложения абзаца, 1 - первое предложение абзаца, 2 - первое предложение секции."
      ],
      "metadata": {
        "id": "d_OzGbGZ4WVu"
      }
    },
    {
      "cell_type": "code",
      "execution_count": null,
      "metadata": {
        "id": "VCXp9Pckc3_Y"
      },
      "outputs": [],
      "source": [
        "! git clone https://github.com/grgera/Text-Segmentation.git"
      ]
    },
    {
      "cell_type": "code",
      "source": [
        "% cd Text-Segmentation/"
      ],
      "metadata": {
        "id": "fR25QnoB6HUk"
      },
      "execution_count": null,
      "outputs": []
    },
    {
      "cell_type": "markdown",
      "source": [
        "## 1). Загрузка данных"
      ],
      "metadata": {
        "id": "ADe6bph3c-lS"
      }
    },
    {
      "cell_type": "code",
      "source": [
        "!wget -P /content/Text-Segmentation https://www.dropbox.com/s/rexdmrlcj2nlbjs/data.jsonl"
      ],
      "metadata": {
        "id": "ntka_eKKZ3fP"
      },
      "execution_count": null,
      "outputs": []
    },
    {
      "cell_type": "code",
      "source": [
        "from utils import *\n",
        "\n",
        "data_list = read_json('data.jsonl')\n",
        "dataframe = dt_to_pd(data_list)"
      ],
      "metadata": {
        "id": "VPyGrixFxtHV"
      },
      "execution_count": 4,
      "outputs": []
    },
    {
      "cell_type": "code",
      "source": [
        "print(\"Данные содержат {} предложение\".format(dataframe.shape[0]))"
      ],
      "metadata": {
        "colab": {
          "base_uri": "https://localhost:8080/"
        },
        "id": "vNufrJ8V-HzD",
        "outputId": "50829721-6a22-480c-f8f6-f2b9fcdded25"
      },
      "execution_count": 5,
      "outputs": [
        {
          "output_type": "stream",
          "name": "stdout",
          "text": [
            "Данные содержат 116601 предложение\n"
          ]
        }
      ]
    },
    {
      "cell_type": "markdown",
      "source": [
        "Выведем распределение по классам в документах."
      ],
      "metadata": {
        "id": "R0E6wrRCBoT9"
      }
    },
    {
      "cell_type": "code",
      "source": [
        "dataframe.groupby([1]).count()"
      ],
      "metadata": {
        "colab": {
          "base_uri": "https://localhost:8080/",
          "height": 175
        },
        "id": "QqhBlla4-I98",
        "outputId": "4decf558-c0ae-4f91-8075-9974c6529417"
      },
      "execution_count": 6,
      "outputs": [
        {
          "output_type": "execute_result",
          "data": {
            "text/plain": [
              "       0\n",
              "1       \n",
              "0  78737\n",
              "1  34011\n",
              "2   3853"
            ],
            "text/html": [
              "\n",
              "  <div id=\"df-e53670e7-944d-4f22-90e7-1d3de3224754\">\n",
              "    <div class=\"colab-df-container\">\n",
              "      <div>\n",
              "<style scoped>\n",
              "    .dataframe tbody tr th:only-of-type {\n",
              "        vertical-align: middle;\n",
              "    }\n",
              "\n",
              "    .dataframe tbody tr th {\n",
              "        vertical-align: top;\n",
              "    }\n",
              "\n",
              "    .dataframe thead th {\n",
              "        text-align: right;\n",
              "    }\n",
              "</style>\n",
              "<table border=\"1\" class=\"dataframe\">\n",
              "  <thead>\n",
              "    <tr style=\"text-align: right;\">\n",
              "      <th></th>\n",
              "      <th>0</th>\n",
              "    </tr>\n",
              "    <tr>\n",
              "      <th>1</th>\n",
              "      <th></th>\n",
              "    </tr>\n",
              "  </thead>\n",
              "  <tbody>\n",
              "    <tr>\n",
              "      <th>0</th>\n",
              "      <td>78737</td>\n",
              "    </tr>\n",
              "    <tr>\n",
              "      <th>1</th>\n",
              "      <td>34011</td>\n",
              "    </tr>\n",
              "    <tr>\n",
              "      <th>2</th>\n",
              "      <td>3853</td>\n",
              "    </tr>\n",
              "  </tbody>\n",
              "</table>\n",
              "</div>\n",
              "      <button class=\"colab-df-convert\" onclick=\"convertToInteractive('df-e53670e7-944d-4f22-90e7-1d3de3224754')\"\n",
              "              title=\"Convert this dataframe to an interactive table.\"\n",
              "              style=\"display:none;\">\n",
              "        \n",
              "  <svg xmlns=\"http://www.w3.org/2000/svg\" height=\"24px\"viewBox=\"0 0 24 24\"\n",
              "       width=\"24px\">\n",
              "    <path d=\"M0 0h24v24H0V0z\" fill=\"none\"/>\n",
              "    <path d=\"M18.56 5.44l.94 2.06.94-2.06 2.06-.94-2.06-.94-.94-2.06-.94 2.06-2.06.94zm-11 1L8.5 8.5l.94-2.06 2.06-.94-2.06-.94L8.5 2.5l-.94 2.06-2.06.94zm10 10l.94 2.06.94-2.06 2.06-.94-2.06-.94-.94-2.06-.94 2.06-2.06.94z\"/><path d=\"M17.41 7.96l-1.37-1.37c-.4-.4-.92-.59-1.43-.59-.52 0-1.04.2-1.43.59L10.3 9.45l-7.72 7.72c-.78.78-.78 2.05 0 2.83L4 21.41c.39.39.9.59 1.41.59.51 0 1.02-.2 1.41-.59l7.78-7.78 2.81-2.81c.8-.78.8-2.07 0-2.86zM5.41 20L4 18.59l7.72-7.72 1.47 1.35L5.41 20z\"/>\n",
              "  </svg>\n",
              "      </button>\n",
              "      \n",
              "  <style>\n",
              "    .colab-df-container {\n",
              "      display:flex;\n",
              "      flex-wrap:wrap;\n",
              "      gap: 12px;\n",
              "    }\n",
              "\n",
              "    .colab-df-convert {\n",
              "      background-color: #E8F0FE;\n",
              "      border: none;\n",
              "      border-radius: 50%;\n",
              "      cursor: pointer;\n",
              "      display: none;\n",
              "      fill: #1967D2;\n",
              "      height: 32px;\n",
              "      padding: 0 0 0 0;\n",
              "      width: 32px;\n",
              "    }\n",
              "\n",
              "    .colab-df-convert:hover {\n",
              "      background-color: #E2EBFA;\n",
              "      box-shadow: 0px 1px 2px rgba(60, 64, 67, 0.3), 0px 1px 3px 1px rgba(60, 64, 67, 0.15);\n",
              "      fill: #174EA6;\n",
              "    }\n",
              "\n",
              "    [theme=dark] .colab-df-convert {\n",
              "      background-color: #3B4455;\n",
              "      fill: #D2E3FC;\n",
              "    }\n",
              "\n",
              "    [theme=dark] .colab-df-convert:hover {\n",
              "      background-color: #434B5C;\n",
              "      box-shadow: 0px 1px 3px 1px rgba(0, 0, 0, 0.15);\n",
              "      filter: drop-shadow(0px 1px 2px rgba(0, 0, 0, 0.3));\n",
              "      fill: #FFFFFF;\n",
              "    }\n",
              "  </style>\n",
              "\n",
              "      <script>\n",
              "        const buttonEl =\n",
              "          document.querySelector('#df-e53670e7-944d-4f22-90e7-1d3de3224754 button.colab-df-convert');\n",
              "        buttonEl.style.display =\n",
              "          google.colab.kernel.accessAllowed ? 'block' : 'none';\n",
              "\n",
              "        async function convertToInteractive(key) {\n",
              "          const element = document.querySelector('#df-e53670e7-944d-4f22-90e7-1d3de3224754');\n",
              "          const dataTable =\n",
              "            await google.colab.kernel.invokeFunction('convertToInteractive',\n",
              "                                                     [key], {});\n",
              "          if (!dataTable) return;\n",
              "\n",
              "          const docLinkHtml = 'Like what you see? Visit the ' +\n",
              "            '<a target=\"_blank\" href=https://colab.research.google.com/notebooks/data_table.ipynb>data table notebook</a>'\n",
              "            + ' to learn more about interactive tables.';\n",
              "          element.innerHTML = '';\n",
              "          dataTable['output_type'] = 'display_data';\n",
              "          await google.colab.output.renderOutput(dataTable, element);\n",
              "          const docLink = document.createElement('div');\n",
              "          docLink.innerHTML = docLinkHtml;\n",
              "          element.appendChild(docLink);\n",
              "        }\n",
              "      </script>\n",
              "    </div>\n",
              "  </div>\n",
              "  "
            ]
          },
          "metadata": {},
          "execution_count": 6
        }
      ]
    },
    {
      "cell_type": "markdown",
      "source": [
        "По смыслу задачи, ну и это можно увидеть выше, данные сильно несбалансированы, особенно это касается разметки для разбиения на секции."
      ],
      "metadata": {
        "id": "U5VsV0fJBVrX"
      }
    },
    {
      "cell_type": "markdown",
      "source": [
        "Посмотрим на распределение количества слов в предложениях."
      ],
      "metadata": {
        "id": "dClLITYj4tjK"
      }
    },
    {
      "cell_type": "code",
      "source": [
        "words_in_sentences(dataframe)"
      ],
      "metadata": {
        "colab": {
          "base_uri": "https://localhost:8080/",
          "height": 609
        },
        "id": "DL026iJS1T7R",
        "outputId": "68081211-a10a-4222-d4f9-6732c277e41e"
      },
      "execution_count": 7,
      "outputs": [
        {
          "output_type": "display_data",
          "data": {
            "text/plain": [
              "<Figure size 1600x600 with 1 Axes>"
            ],
            "image/png": "[encoded data removed]"
          },
          "metadata": {
            "needs_background": "light"
          }
        }
      ]
    },
    {
      "cell_type": "code",
      "source": [
        "! pip install -r requirements.txt"
      ],
      "metadata": {
        "id": "DWhVfaSPnG3h"
      },
      "execution_count": null,
      "outputs": []
    },
    {
      "cell_type": "code",
      "source": [
        "! wandb login"
      ],
      "metadata": {
        "id": "WgSlXodA7p72"
      },
      "execution_count": null,
      "outputs": []
    },
    {
      "cell_type": "code",
      "source": [
        "! mkdir logging"
      ],
      "metadata": {
        "id": "VIOnqUYRQEQj"
      },
      "execution_count": 10,
      "outputs": []
    },
    {
      "cell_type": "markdown",
      "source": [
        "## 2). Подходы для решения задачи"
      ],
      "metadata": {
        "id": "p3UQPpZVB3_c"
      }
    },
    {
      "cell_type": "markdown",
      "source": [
        "Я выбрал подходы в которых задача разбивается на два этапа: \n",
        "\n",
        "*   сбор и анализ контекстов - получение эмбеддингов предложений\n",
        "*   классификация предложений\n",
        "\n",
        "Для решения первого пункта решено было использовать BERT-like модель. Необходимо \"скормить\" предложения на вход энкодера и в конце получить эмбеддинги каждого из них.\n",
        "\n"
      ],
      "metadata": {
        "id": "Y0M5eccDB__I"
      }
    },
    {
      "cell_type": "markdown",
      "source": [
        "Второй пункт я решаю либо при помощи BERT-like модели, либо BiLSTM."
      ],
      "metadata": {
        "id": "SIG6xpF0IRoI"
      }
    },
    {
      "cell_type": "markdown",
      "source": [
        "Также я решил попробовать обучить каждую модель на два метода классификации. \n",
        "\n",
        "\n",
        "---\n",
        "\n",
        "\n",
        "В первом случае, сегментировать тексты будут две идентичные модели бинарной классификации \n",
        "\n",
        "*   У первой: 0 - обычное предложение, 1 - первое предложение абзаца\n",
        "*   У второй: 0 - обычное предложение, 1 - первое предложение секции\n",
        "\n",
        "Предложения исходной разметки, помечающие секции, у первой модели станут 0, у второй идентично с абзацами.\n",
        "\n",
        "---\n",
        "\n",
        "\n",
        "Во втором случае, сегментировать тексты будет модель многоклассовой классифкации, исходная разметка не будет затронута.\n",
        "\n",
        "\n",
        "---\n",
        "\n",
        "\n",
        "\n",
        "\n"
      ],
      "metadata": {
        "id": "lL7qBM5xFuWI"
      }
    },
    {
      "cell_type": "markdown",
      "source": [
        "### 2.1) SBERT + BERT-Base"
      ],
      "metadata": {
        "id": "OpmGXpL9H_qA"
      }
    },
    {
      "cell_type": "markdown",
      "source": [
        "Первым и самым очевидным подходом было бы использование либо [CLS] токена, либо усреднение эмбеддингов токенов предложения с последнего слоя модели. Однако, в статье [SentenceBERT](https://arxiv.org/pdf/1908.10084.pdf) авторы показали, что этот путь извлечения векторов предложений имеет низкий скор на различных датасетах. Там же был представлен SBERT энкодер, именно который и будет взят для первого подхода."
      ],
      "metadata": {
        "id": "a5jHwx4lIMuL"
      }
    },
    {
      "cell_type": "markdown",
      "source": [
        "В классе `SBERT_Embedding` реализуется препроцессинг данных, разбиение на три выборки 76.5%/8.5%/15% без перемешивания, перевод предложений при помощи `SentenceTransformers` в вектора и обертка в TensorDataset. Именно этот датасет далее идет на вход BERT-like модели (в данных опытах была выбрана модель 'bert-base-uncased'). Для более удобного проведения экспериментов и контроля их качества модель обернута в PyTorch Lightning и привязан логгер Weights&Baises. "
      ],
      "metadata": {
        "id": "-xQ9T0-nTHsp"
      }
    },
    {
      "cell_type": "markdown",
      "source": [
        "Итак, модель [SBERT](https://github.com/grgera/Text-Segmentation/blob/main/sentence_embeddings/sbert.py) + [BERT-base](https://github.com/grgera/Text-Segmentation/blob/main/models/bert.py) классифкация на 3 класса."
      ],
      "metadata": {
        "id": "3GCnaz7JxsOt"
      }
    },
    {
      "cell_type": "code",
      "source": [
        "! python train.py --config config.yaml --emb_type 'SBERT'"
      ],
      "metadata": {
        "id": "ApXrutHY-L6g"
      },
      "execution_count": null,
      "outputs": []
    },
    {
      "cell_type": "markdown",
      "source": [
        "Посмотреть на графики обучения можно в отчете на [Weights&Biases](https://wandb.ai/gritsay/Segmentation-Texts/reports/SBERT-BERT-on-3-classes---VmlldzoyMjk0MTA2?accessToken=3csg4qk341ndqnhes93p5m5dbucsgcu6j12gfz42ht6m8v6zrr1sfkofaks6vfj3)"
      ],
      "metadata": {
        "id": "Y2zHbMJLHBUr"
      }
    },
    {
      "cell_type": "code",
      "source": [
        "! python test.py --config config.yaml --emb_type 'SBERT'"
      ],
      "metadata": {
        "id": "k5O7wYv3WcKq",
        "colab": {
          "base_uri": "https://localhost:8080/"
        },
        "outputId": "23a4698f-2011-47b1-9447-89be279eb8b7"
      },
      "execution_count": null,
      "outputs": [
        {
          "output_type": "stream",
          "name": "stdout",
          "text": [
            "Test preprocessing...\n",
            "\n",
            "\u001b[34m\u001b[1mwandb\u001b[0m: Currently logged in as: \u001b[33mgritsay\u001b[0m. Use \u001b[1m`wandb login --relogin`\u001b[0m to force relogin\n",
            "\u001b[34m\u001b[1mwandb\u001b[0m: Tracking run with wandb version 0.12.21\n",
            "\u001b[34m\u001b[1mwandb\u001b[0m: Run data is saved locally in \u001b[35m\u001b[1m./logging/wandb/run-20220710_123032-1hdn9y63\u001b[0m\n",
            "\u001b[34m\u001b[1mwandb\u001b[0m: Run \u001b[1m`wandb offline`\u001b[0m to turn off syncing.\n",
            "\u001b[34m\u001b[1mwandb\u001b[0m: Syncing run \u001b[33mvague-glade-4\u001b[0m\n",
            "\u001b[34m\u001b[1mwandb\u001b[0m: ⭐️ View project at \u001b[34m\u001b[4mhttps://wandb.ai/gritsay/Segmentation-Texts\u001b[0m\n",
            "\u001b[34m\u001b[1mwandb\u001b[0m: 🚀 View run at \u001b[34m\u001b[4mhttps://wandb.ai/gritsay/Segmentation-Texts/runs/1hdn9y63\u001b[0m\n",
            "Batches: 100% 1394/1394 [00:57<00:00, 24.08it/s]\n",
            "Batches: 100% 155/155 [00:06<00:00, 23.36it/s]\n",
            "Batches: 100% 274/274 [00:11<00:00, 24.50it/s]\n",
            "Testing process start!\n",
            "\n",
            "GPU available: True, used: True\n",
            "TPU available: False, using: 0 TPU cores\n",
            "IPU available: False, using: 0 IPUs\n",
            "HPU available: False, using: 0 HPUs\n",
            "LOCAL_RANK: 0 - CUDA_VISIBLE_DEVICES: [0]\n",
            "Testing DataLoader 0: 100% 274/274 [00:03<00:00, 76.89it/s]\n",
            "────────────────────────────────────────────────────────────────────────────────────────────────────────────────────────\n",
            "       Test metric             DataLoader 0\n",
            "────────────────────────────────────────────────────────────────────────────────────────────────────────────────────────\n",
            "        test_acc             69.07552455548567\n",
            "         test_f1             69.07552455548567\n",
            "        test_loss           0.6813564300537109\n",
            "────────────────────────────────────────────────────────────────────────────────────────────────────────────────────────\n",
            "\u001b[34m\u001b[1mwandb\u001b[0m: Waiting for W&B process to finish... \u001b[32m(success).\u001b[0m\n",
            "\u001b[34m\u001b[1mwandb\u001b[0m:                                                                                \n",
            "\u001b[34m\u001b[1mwandb\u001b[0m: \n",
            "\u001b[34m\u001b[1mwandb\u001b[0m: Run history:\n",
            "\u001b[34m\u001b[1mwandb\u001b[0m:               epoch ▁\n",
            "\u001b[34m\u001b[1mwandb\u001b[0m:            test_acc ▁\n",
            "\u001b[34m\u001b[1mwandb\u001b[0m:             test_f1 ▁\n",
            "\u001b[34m\u001b[1mwandb\u001b[0m:           test_loss ▁\n",
            "\u001b[34m\u001b[1mwandb\u001b[0m: trainer/global_step ▁\n",
            "\u001b[34m\u001b[1mwandb\u001b[0m: \n",
            "\u001b[34m\u001b[1mwandb\u001b[0m: Run summary:\n",
            "\u001b[34m\u001b[1mwandb\u001b[0m:               epoch 0\n",
            "\u001b[34m\u001b[1mwandb\u001b[0m:            test_acc 69.07552\n",
            "\u001b[34m\u001b[1mwandb\u001b[0m:             test_f1 69.07552\n",
            "\u001b[34m\u001b[1mwandb\u001b[0m:           test_loss 0.68136\n",
            "\u001b[34m\u001b[1mwandb\u001b[0m: trainer/global_step 0\n",
            "\u001b[34m\u001b[1mwandb\u001b[0m: \n",
            "\u001b[34m\u001b[1mwandb\u001b[0m: Synced \u001b[33mvague-glade-4\u001b[0m: \u001b[34m\u001b[4mhttps://wandb.ai/gritsay/Segmentation-Texts/runs/1hdn9y63\u001b[0m\n",
            "\u001b[34m\u001b[1mwandb\u001b[0m: Synced 5 W&B file(s), 0 media file(s), 0 artifact file(s) and 0 other file(s)\n",
            "\u001b[34m\u001b[1mwandb\u001b[0m: Find logs at: \u001b[35m\u001b[1m./logging/wandb/run-20220710_123032-1hdn9y63/logs\u001b[0m\n"
          ]
        }
      ]
    },
    {
      "cell_type": "markdown",
      "source": [
        "Теперь посмотрим на две модели той же архитектуры, но с бинарной классификацией. Сначала это будет модель для абзацев, затем для секций. Стоит заметить, что пытаясь бороться с сильным дисбалансом классов, я использую веса лейблов в `CrossEntropyLoss`. Для оценки выбраны метрики `f1_score` и `accuracy_score`."
      ],
      "metadata": {
        "id": "t1RUhFKAlzGR"
      }
    },
    {
      "cell_type": "code",
      "source": [
        "! python train.py --config config.yaml --emb_type 'SBERT' --binary_mode 'paragraph'"
      ],
      "metadata": {
        "id": "3Fu9j648LKRs"
      },
      "execution_count": null,
      "outputs": []
    },
    {
      "cell_type": "markdown",
      "source": [
        "Посмотреть на графики обучения можно в отчете на [Weights&Biases](https://wandb.ai/gritsay/Segmentation-Texts/reports/SBERT-BERT-on-2-classes-paragraph---VmlldzoyMjk0MTc5?accessToken=lwi7rdofzm0qalpg8t1ju1e3evqel7vej49nm5bkib59uy89v4m1dzudaijioddl)"
      ],
      "metadata": {
        "id": "ljdr9dvqMTda"
      }
    },
    {
      "cell_type": "code",
      "source": [
        "! python test.py --config config.yaml --emb_type 'SBERT' --binary_mode 'paragraph'"
      ],
      "metadata": {
        "id": "XjHQFQb-xIHe",
        "colab": {
          "base_uri": "https://localhost:8080/"
        },
        "outputId": "ed82b599-9096-48c2-e6ff-585adc0517ff"
      },
      "execution_count": null,
      "outputs": [
        {
          "output_type": "stream",
          "name": "stdout",
          "text": [
            "Test preprocessing...\n",
            "\n",
            "\u001b[34m\u001b[1mwandb\u001b[0m: Currently logged in as: \u001b[33mgritsay\u001b[0m. Use \u001b[1m`wandb login --relogin`\u001b[0m to force relogin\n",
            "\u001b[34m\u001b[1mwandb\u001b[0m: Tracking run with wandb version 0.12.21\n",
            "\u001b[34m\u001b[1mwandb\u001b[0m: Run data is saved locally in \u001b[35m\u001b[1m./logging/wandb/run-20220710_125532-jrbo8p3h\u001b[0m\n",
            "\u001b[34m\u001b[1mwandb\u001b[0m: Run \u001b[1m`wandb offline`\u001b[0m to turn off syncing.\n",
            "\u001b[34m\u001b[1mwandb\u001b[0m: Syncing run \u001b[33mcosmic-flower-6\u001b[0m\n",
            "\u001b[34m\u001b[1mwandb\u001b[0m: ⭐️ View project at \u001b[34m\u001b[4mhttps://wandb.ai/gritsay/Segmentation-Texts\u001b[0m\n",
            "\u001b[34m\u001b[1mwandb\u001b[0m: 🚀 View run at \u001b[34m\u001b[4mhttps://wandb.ai/gritsay/Segmentation-Texts/runs/jrbo8p3h\u001b[0m\n",
            "Batches: 100% 1394/1394 [00:59<00:00, 23.42it/s]\n",
            "Batches: 100% 155/155 [00:06<00:00, 24.27it/s]\n",
            "Batches: 100% 274/274 [00:10<00:00, 25.07it/s]\n",
            "Testing process start!\n",
            "\n",
            "GPU available: True, used: True\n",
            "TPU available: False, using: 0 TPU cores\n",
            "IPU available: False, using: 0 IPUs\n",
            "HPU available: False, using: 0 HPUs\n",
            "LOCAL_RANK: 0 - CUDA_VISIBLE_DEVICES: [0]\n",
            "Testing DataLoader 0: 100% 274/274 [00:03<00:00, 76.22it/s]\n",
            "────────────────────────────────────────────────────────────────────────────────────────────────────────────────────────\n",
            "       Test metric             DataLoader 0\n",
            "────────────────────────────────────────────────────────────────────────────────────────────────────────────────────────\n",
            "        test_acc            58.492939225887596\n",
            "         test_f1             46.62235491794526\n",
            "        test_loss           0.6692423224449158\n",
            "────────────────────────────────────────────────────────────────────────────────────────────────────────────────────────\n",
            "\u001b[34m\u001b[1mwandb\u001b[0m: Waiting for W&B process to finish... \u001b[32m(success).\u001b[0m\n",
            "\u001b[34m\u001b[1mwandb\u001b[0m:                                                                                \n",
            "\u001b[34m\u001b[1mwandb\u001b[0m: \n",
            "\u001b[34m\u001b[1mwandb\u001b[0m: Run history:\n",
            "\u001b[34m\u001b[1mwandb\u001b[0m:               epoch ▁\n",
            "\u001b[34m\u001b[1mwandb\u001b[0m:            test_acc ▁\n",
            "\u001b[34m\u001b[1mwandb\u001b[0m:             test_f1 ▁\n",
            "\u001b[34m\u001b[1mwandb\u001b[0m:           test_loss ▁\n",
            "\u001b[34m\u001b[1mwandb\u001b[0m: trainer/global_step ▁\n",
            "\u001b[34m\u001b[1mwandb\u001b[0m: \n",
            "\u001b[34m\u001b[1mwandb\u001b[0m: Run summary:\n",
            "\u001b[34m\u001b[1mwandb\u001b[0m:               epoch 0\n",
            "\u001b[34m\u001b[1mwandb\u001b[0m:            test_acc 58.49294\n",
            "\u001b[34m\u001b[1mwandb\u001b[0m:             test_f1 46.62235\n",
            "\u001b[34m\u001b[1mwandb\u001b[0m:           test_loss 0.66924\n",
            "\u001b[34m\u001b[1mwandb\u001b[0m: trainer/global_step 0\n",
            "\u001b[34m\u001b[1mwandb\u001b[0m: \n",
            "\u001b[34m\u001b[1mwandb\u001b[0m: Synced \u001b[33mcosmic-flower-6\u001b[0m: \u001b[34m\u001b[4mhttps://wandb.ai/gritsay/Segmentation-Texts/runs/jrbo8p3h\u001b[0m\n",
            "\u001b[34m\u001b[1mwandb\u001b[0m: Synced 5 W&B file(s), 0 media file(s), 0 artifact file(s) and 0 other file(s)\n",
            "\u001b[34m\u001b[1mwandb\u001b[0m: Find logs at: \u001b[35m\u001b[1m./logging/wandb/run-20220710_125532-jrbo8p3h/logs\u001b[0m\n"
          ]
        }
      ]
    },
    {
      "cell_type": "code",
      "source": [
        "! python train.py --config config.yaml --emb_type 'SBERT' --binary_mode 'section'"
      ],
      "metadata": {
        "id": "tIWXMcH2xfLk"
      },
      "execution_count": null,
      "outputs": []
    },
    {
      "cell_type": "markdown",
      "source": [
        "Посмотреть на графики обучения можно в отчете на [Weights&Biases](https://wandb.ai/gritsay/Segmentation-Texts/reports/SBERT-BERT-on-2-classes-section---VmlldzoyMjk0MjM0?accessToken=0lyv8q7fkvcz7dnz3ayrc6ajaa2tpph1ps2otpgj1xxmqd1lhcsm2kvwau4kgfn6)"
      ],
      "metadata": {
        "id": "SZCUMwUYT0aD"
      }
    },
    {
      "cell_type": "code",
      "source": [
        "! python test.py --config config.yaml --emb_type 'SBERT' --binary_mode 'section'"
      ],
      "metadata": {
        "id": "Gydm07acxwAf",
        "colab": {
          "base_uri": "https://localhost:8080/"
        },
        "outputId": "9b2a7a0a-b23d-40c9-f22b-a14d2103a993"
      },
      "execution_count": null,
      "outputs": [
        {
          "output_type": "stream",
          "name": "stdout",
          "text": [
            "Test preprocessing...\n",
            "\n",
            "\u001b[34m\u001b[1mwandb\u001b[0m: Currently logged in as: \u001b[33mgritsay\u001b[0m. Use \u001b[1m`wandb login --relogin`\u001b[0m to force relogin\n",
            "\u001b[34m\u001b[1mwandb\u001b[0m: Tracking run with wandb version 0.12.21\n",
            "\u001b[34m\u001b[1mwandb\u001b[0m: Run data is saved locally in \u001b[35m\u001b[1m./logging/wandb/run-20220710_132040-m0cu41b6\u001b[0m\n",
            "\u001b[34m\u001b[1mwandb\u001b[0m: Run \u001b[1m`wandb offline`\u001b[0m to turn off syncing.\n",
            "\u001b[34m\u001b[1mwandb\u001b[0m: Syncing run \u001b[33mwise-sun-8\u001b[0m\n",
            "\u001b[34m\u001b[1mwandb\u001b[0m: ⭐️ View project at \u001b[34m\u001b[4mhttps://wandb.ai/gritsay/Segmentation-Texts\u001b[0m\n",
            "\u001b[34m\u001b[1mwandb\u001b[0m: 🚀 View run at \u001b[34m\u001b[4mhttps://wandb.ai/gritsay/Segmentation-Texts/runs/m0cu41b6\u001b[0m\n",
            "Batches: 100% 1394/1394 [00:59<00:00, 23.34it/s]\n",
            "Batches: 100% 155/155 [00:06<00:00, 23.98it/s]\n",
            "Batches: 100% 274/274 [00:10<00:00, 24.91it/s]\n",
            "Testing process start!\n",
            "\n",
            "GPU available: True, used: True\n",
            "TPU available: False, using: 0 TPU cores\n",
            "IPU available: False, using: 0 IPUs\n",
            "HPU available: False, using: 0 HPUs\n",
            "LOCAL_RANK: 0 - CUDA_VISIBLE_DEVICES: [0]\n",
            "Testing DataLoader 0: 100% 274/274 [00:04<00:00, 67.09it/s]\n",
            "────────────────────────────────────────────────────────────────────────────────────────────────────────────────────────\n",
            "       Test metric             DataLoader 0\n",
            "────────────────────────────────────────────────────────────────────────────────────────────────────────────────────────\n",
            "        test_acc             84.5120347607341\n",
            "         test_f1            13.974927583271585\n",
            "        test_loss           0.5980749726295471\n",
            "────────────────────────────────────────────────────────────────────────────────────────────────────────────────────────\n",
            "\u001b[34m\u001b[1mwandb\u001b[0m: Waiting for W&B process to finish... \u001b[32m(success).\u001b[0m\n",
            "\u001b[34m\u001b[1mwandb\u001b[0m:                                                                                \n",
            "\u001b[34m\u001b[1mwandb\u001b[0m: \n",
            "\u001b[34m\u001b[1mwandb\u001b[0m: Run history:\n",
            "\u001b[34m\u001b[1mwandb\u001b[0m:               epoch ▁\n",
            "\u001b[34m\u001b[1mwandb\u001b[0m:            test_acc ▁\n",
            "\u001b[34m\u001b[1mwandb\u001b[0m:             test_f1 ▁\n",
            "\u001b[34m\u001b[1mwandb\u001b[0m:           test_loss ▁\n",
            "\u001b[34m\u001b[1mwandb\u001b[0m: trainer/global_step ▁\n",
            "\u001b[34m\u001b[1mwandb\u001b[0m: \n",
            "\u001b[34m\u001b[1mwandb\u001b[0m: Run summary:\n",
            "\u001b[34m\u001b[1mwandb\u001b[0m:               epoch 0\n",
            "\u001b[34m\u001b[1mwandb\u001b[0m:            test_acc 84.51203\n",
            "\u001b[34m\u001b[1mwandb\u001b[0m:             test_f1 13.97493\n",
            "\u001b[34m\u001b[1mwandb\u001b[0m:           test_loss 0.59807\n",
            "\u001b[34m\u001b[1mwandb\u001b[0m: trainer/global_step 0\n",
            "\u001b[34m\u001b[1mwandb\u001b[0m: \n",
            "\u001b[34m\u001b[1mwandb\u001b[0m: Synced \u001b[33mwise-sun-8\u001b[0m: \u001b[34m\u001b[4mhttps://wandb.ai/gritsay/Segmentation-Texts/runs/m0cu41b6\u001b[0m\n",
            "\u001b[34m\u001b[1mwandb\u001b[0m: Synced 5 W&B file(s), 0 media file(s), 0 artifact file(s) and 0 other file(s)\n",
            "\u001b[34m\u001b[1mwandb\u001b[0m: Find logs at: \u001b[35m\u001b[1m./logging/wandb/run-20220710_132040-m0cu41b6/logs\u001b[0m\n"
          ]
        }
      ]
    },
    {
      "cell_type": "markdown",
      "source": [
        "### 2.2) LaBSE + BERT-Base"
      ],
      "metadata": {
        "id": "kLS2DTQn2DGd"
      }
    },
    {
      "cell_type": "markdown",
      "source": [
        "Вторым подходом я решил рассмотреть [LaBSE](https://arxiv.org/pdf/2007.01852.pdf) (language-agnostic BERT sentence embedding). Мультиязычный энкодер для предложений от Google, который показывал достаточно хорошее качество. В качестве классификатора снова выбрана BERT-like модель ('bert-base-uncased')."
      ],
      "metadata": {
        "id": "HuG6v9lqydhC"
      }
    },
    {
      "cell_type": "markdown",
      "source": [
        "В классе `LABSE_Embedding` реализуется препроцессинг данных, разбиение на три выборки 76.5%/8.5%/15% без перемешивания, перевод предложений при помощи `LaBSE-en-ru` в вектора и обертка в TensorDataset. Также при токенизации предложений они фиксируются размером 128, меньшие дополняются паддингом, большие обрезаются. Как было показано в начале ноутбука в среднем длины предложений основной массы исходных данных варьируются от 10-20 слов."
      ],
      "metadata": {
        "id": "Q2sAOFtR0Anr"
      }
    },
    {
      "cell_type": "markdown",
      "source": [
        "Модель [LaBSE](https://github.com/grgera/Text-Segmentation/blob/main/sentence_embeddings/labse.py) + [BERT-base](https://github.com/grgera/Text-Segmentation/blob/main/models/bert.py) классифкация на 3 класса."
      ],
      "metadata": {
        "id": "8wi5gU-E8AwL"
      }
    },
    {
      "cell_type": "code",
      "source": [
        "! python train.py --config config.yaml --emb_type 'LABSE'"
      ],
      "metadata": {
        "id": "ZnUx0-CkAfPI"
      },
      "execution_count": null,
      "outputs": []
    },
    {
      "cell_type": "markdown",
      "source": [
        "Посмотреть на графики обучения можно в отчете на [Weights&Biases](https://wandb.ai/gritsay/Segmentation-Texts/reports/LaBSE-BERT-on-3-classes---VmlldzoyMjk0MzYx?accessToken=1hgpb3895ytl7ddyfzmw82x54gxtkrw032k2gc8gi38gz317owro7w0t32o2szmk)"
      ],
      "metadata": {
        "id": "xkj_6suwfIQA"
      }
    },
    {
      "cell_type": "code",
      "source": [
        "! python test.py --config config.yaml --emb_type 'LABSE'"
      ],
      "metadata": {
        "id": "X_3e3213AiBm",
        "colab": {
          "base_uri": "https://localhost:8080/"
        },
        "outputId": "22061c8c-b2fa-48e5-d35d-7caff77696d3"
      },
      "execution_count": null,
      "outputs": [
        {
          "output_type": "stream",
          "name": "stdout",
          "text": [
            "Test preprocessing...\n",
            "\n",
            "\u001b[34m\u001b[1mwandb\u001b[0m: Currently logged in as: \u001b[33mgritsay\u001b[0m. Use \u001b[1m`wandb login --relogin`\u001b[0m to force relogin\n",
            "\u001b[34m\u001b[1mwandb\u001b[0m: Tracking run with wandb version 0.12.21\n",
            "\u001b[34m\u001b[1mwandb\u001b[0m: Run data is saved locally in \u001b[35m\u001b[1m./logging/wandb/run-20220710_141836-261z615a\u001b[0m\n",
            "\u001b[34m\u001b[1mwandb\u001b[0m: Run \u001b[1m`wandb offline`\u001b[0m to turn off syncing.\n",
            "\u001b[34m\u001b[1mwandb\u001b[0m: Syncing run \u001b[33mdrawn-night-13\u001b[0m\n",
            "\u001b[34m\u001b[1mwandb\u001b[0m: ⭐️ View project at \u001b[34m\u001b[4mhttps://wandb.ai/gritsay/Segmentation-Texts\u001b[0m\n",
            "\u001b[34m\u001b[1mwandb\u001b[0m: 🚀 View run at \u001b[34m\u001b[4mhttps://wandb.ai/gritsay/Segmentation-Texts/runs/261z615a\u001b[0m\n",
            "100% 1394/1394 [11:29<00:00,  2.02it/s]\n",
            "100% 155/155 [01:16<00:00,  2.03it/s]\n",
            "100% 274/274 [02:14<00:00,  2.03it/s]\n",
            "Testing process start!\n",
            "\n",
            "GPU available: True, used: True\n",
            "TPU available: False, using: 0 TPU cores\n",
            "IPU available: False, using: 0 IPUs\n",
            "HPU available: False, using: 0 HPUs\n",
            "LOCAL_RANK: 0 - CUDA_VISIBLE_DEVICES: [0]\n",
            "Testing DataLoader 0: 100% 274/274 [00:03<00:00, 75.89it/s]\n",
            "────────────────────────────────────────────────────────────────────────────────────────────────────────────────────────\n",
            "       Test metric             DataLoader 0\n",
            "────────────────────────────────────────────────────────────────────────────────────────────────────────────────────────\n",
            "        test_acc             70.39620376193471\n",
            "         test_f1             70.39620376193471\n",
            "        test_loss           0.6525724530220032\n",
            "────────────────────────────────────────────────────────────────────────────────────────────────────────────────────────\n",
            "\u001b[34m\u001b[1mwandb\u001b[0m: Waiting for W&B process to finish... \u001b[32m(success).\u001b[0m\n",
            "\u001b[34m\u001b[1mwandb\u001b[0m:                                                                                \n",
            "\u001b[34m\u001b[1mwandb\u001b[0m: \n",
            "\u001b[34m\u001b[1mwandb\u001b[0m: Run history:\n",
            "\u001b[34m\u001b[1mwandb\u001b[0m:               epoch ▁\n",
            "\u001b[34m\u001b[1mwandb\u001b[0m:            test_acc ▁\n",
            "\u001b[34m\u001b[1mwandb\u001b[0m:             test_f1 ▁\n",
            "\u001b[34m\u001b[1mwandb\u001b[0m:           test_loss ▁\n",
            "\u001b[34m\u001b[1mwandb\u001b[0m: trainer/global_step ▁\n",
            "\u001b[34m\u001b[1mwandb\u001b[0m: \n",
            "\u001b[34m\u001b[1mwandb\u001b[0m: Run summary:\n",
            "\u001b[34m\u001b[1mwandb\u001b[0m:               epoch 0\n",
            "\u001b[34m\u001b[1mwandb\u001b[0m:            test_acc 70.3962\n",
            "\u001b[34m\u001b[1mwandb\u001b[0m:             test_f1 70.3962\n",
            "\u001b[34m\u001b[1mwandb\u001b[0m:           test_loss 0.65257\n",
            "\u001b[34m\u001b[1mwandb\u001b[0m: trainer/global_step 0\n",
            "\u001b[34m\u001b[1mwandb\u001b[0m: \n",
            "\u001b[34m\u001b[1mwandb\u001b[0m: Synced \u001b[33mdrawn-night-13\u001b[0m: \u001b[34m\u001b[4mhttps://wandb.ai/gritsay/Segmentation-Texts/runs/261z615a\u001b[0m\n",
            "\u001b[34m\u001b[1mwandb\u001b[0m: Synced 5 W&B file(s), 0 media file(s), 0 artifact file(s) and 0 other file(s)\n",
            "\u001b[34m\u001b[1mwandb\u001b[0m: Find logs at: \u001b[35m\u001b[1m./logging/wandb/run-20220710_141836-261z615a/logs\u001b[0m\n"
          ]
        }
      ]
    },
    {
      "cell_type": "markdown",
      "source": [
        "Теперь посмотрим на две модели той же архитектуры, но с бинарной классификацией. Сначала это будет модель для абзацев, затем для секций. Здесь тоже используются веса классов для функции потерь."
      ],
      "metadata": {
        "id": "I9HXoI82AkLJ"
      }
    },
    {
      "cell_type": "code",
      "source": [
        "! python train.py --config config.yaml --emb_type 'LABSE' --binary_mode 'paragraph'"
      ],
      "metadata": {
        "id": "eE0bawjCAmWS"
      },
      "execution_count": null,
      "outputs": []
    },
    {
      "cell_type": "markdown",
      "source": [
        "Посмотреть на графики обучения можно в отчете на [Weights&Biases](https://wandb.ai/gritsay/Segmentation-Texts/reports/LaBSE-BERT-on-2-classes-paragraph---VmlldzoyMjk0OTMz?accessToken=016403q7x70bw474ezrj94p4cxlee2cd20zhi9nib3bedj4pfpvc5ftsmdp6ht7q)"
      ],
      "metadata": {
        "id": "D-NeFos3REL7"
      }
    },
    {
      "cell_type": "code",
      "source": [
        "! python test.py --config config.yaml --emb_type 'LABSE' --binary_mode 'paragraph'"
      ],
      "metadata": {
        "id": "mtwfJLzKArku",
        "colab": {
          "base_uri": "https://localhost:8080/"
        },
        "outputId": "9d5355e9-3b92-4644-f0b5-e771a38cdee9"
      },
      "execution_count": null,
      "outputs": [
        {
          "output_type": "stream",
          "name": "stdout",
          "text": [
            "Test preprocessing...\n",
            "\n",
            "\u001b[34m\u001b[1mwandb\u001b[0m: Currently logged in as: \u001b[33mgritsay\u001b[0m. Use \u001b[1m`wandb login --relogin`\u001b[0m to force relogin\n",
            "\u001b[34m\u001b[1mwandb\u001b[0m: Tracking run with wandb version 0.12.21\n",
            "\u001b[34m\u001b[1mwandb\u001b[0m: Run data is saved locally in \u001b[35m\u001b[1m./logging/wandb/run-20220710_150935-2i63xfy7\u001b[0m\n",
            "\u001b[34m\u001b[1mwandb\u001b[0m: Run \u001b[1m`wandb offline`\u001b[0m to turn off syncing.\n",
            "\u001b[34m\u001b[1mwandb\u001b[0m: Syncing run \u001b[33mpeachy-river-15\u001b[0m\n",
            "\u001b[34m\u001b[1mwandb\u001b[0m: ⭐️ View project at \u001b[34m\u001b[4mhttps://wandb.ai/gritsay/Segmentation-Texts\u001b[0m\n",
            "\u001b[34m\u001b[1mwandb\u001b[0m: 🚀 View run at \u001b[34m\u001b[4mhttps://wandb.ai/gritsay/Segmentation-Texts/runs/2i63xfy7\u001b[0m\n",
            "100% 1394/1394 [11:26<00:00,  2.03it/s]\n",
            "100% 155/155 [01:16<00:00,  2.03it/s]\n",
            "100% 274/274 [02:14<00:00,  2.04it/s]\n",
            "Testing process start!\n",
            "\n",
            "GPU available: True, used: True\n",
            "TPU available: False, using: 0 TPU cores\n",
            "IPU available: False, using: 0 IPUs\n",
            "HPU available: False, using: 0 HPUs\n",
            "LOCAL_RANK: 0 - CUDA_VISIBLE_DEVICES: [0]\n",
            "Testing DataLoader 0: 100% 274/274 [00:03<00:00, 74.99it/s]\n",
            "────────────────────────────────────────────────────────────────────────────────────────────────────────────────────────\n",
            "       Test metric             DataLoader 0\n",
            "────────────────────────────────────────────────────────────────────────────────────────────────────────────────────────\n",
            "        test_acc            28.546109427705677\n",
            "         test_f1            43.923874004417996\n",
            "        test_loss           0.6934149861335754\n",
            "────────────────────────────────────────────────────────────────────────────────────────────────────────────────────────\n",
            "\u001b[34m\u001b[1mwandb\u001b[0m: Waiting for W&B process to finish... \u001b[32m(success).\u001b[0m\n",
            "\u001b[34m\u001b[1mwandb\u001b[0m:                                                                                \n",
            "\u001b[34m\u001b[1mwandb\u001b[0m: \n",
            "\u001b[34m\u001b[1mwandb\u001b[0m: Run history:\n",
            "\u001b[34m\u001b[1mwandb\u001b[0m:               epoch ▁\n",
            "\u001b[34m\u001b[1mwandb\u001b[0m:            test_acc ▁\n",
            "\u001b[34m\u001b[1mwandb\u001b[0m:             test_f1 ▁\n",
            "\u001b[34m\u001b[1mwandb\u001b[0m:           test_loss ▁\n",
            "\u001b[34m\u001b[1mwandb\u001b[0m: trainer/global_step ▁\n",
            "\u001b[34m\u001b[1mwandb\u001b[0m: \n",
            "\u001b[34m\u001b[1mwandb\u001b[0m: Run summary:\n",
            "\u001b[34m\u001b[1mwandb\u001b[0m:               epoch 0\n",
            "\u001b[34m\u001b[1mwandb\u001b[0m:            test_acc 28.54611\n",
            "\u001b[34m\u001b[1mwandb\u001b[0m:             test_f1 43.92387\n",
            "\u001b[34m\u001b[1mwandb\u001b[0m:           test_loss 0.69341\n",
            "\u001b[34m\u001b[1mwandb\u001b[0m: trainer/global_step 0\n",
            "\u001b[34m\u001b[1mwandb\u001b[0m: \n",
            "\u001b[34m\u001b[1mwandb\u001b[0m: Synced \u001b[33mpeachy-river-15\u001b[0m: \u001b[34m\u001b[4mhttps://wandb.ai/gritsay/Segmentation-Texts/runs/2i63xfy7\u001b[0m\n",
            "\u001b[34m\u001b[1mwandb\u001b[0m: Synced 5 W&B file(s), 0 media file(s), 0 artifact file(s) and 0 other file(s)\n",
            "\u001b[34m\u001b[1mwandb\u001b[0m: Find logs at: \u001b[35m\u001b[1m./logging/wandb/run-20220710_150935-2i63xfy7/logs\u001b[0m\n"
          ]
        }
      ]
    },
    {
      "cell_type": "code",
      "source": [
        "! python train.py --config config.yaml --emb_type 'LABSE' --binary_mode 'section'"
      ],
      "metadata": {
        "id": "Dwcgr0tAAzl-"
      },
      "execution_count": null,
      "outputs": []
    },
    {
      "cell_type": "markdown",
      "source": [
        "Посмотреть на графики обучения можно в отчете на [Weights&Biases](https://wandb.ai/gritsay/Segmentation-Texts/reports/LaBSE-BERT-on-2-classes-section---VmlldzoyMjk0OTQz?accessToken=yuxr5f86myfb6hv82uxd4htt1pnk3y5aqt8nek26k7maga7a6af9n1l16cep78te)"
      ],
      "metadata": {
        "id": "8NX4DbeFSFeF"
      }
    },
    {
      "cell_type": "code",
      "source": [
        "! python test.py --config config.yaml --emb_type 'LABSE' --binary_mode 'section'"
      ],
      "metadata": {
        "id": "lQ8XGOS5Atak",
        "colab": {
          "base_uri": "https://localhost:8080/"
        },
        "outputId": "660331b1-c041-437a-a350-bd18c598f65c"
      },
      "execution_count": null,
      "outputs": [
        {
          "output_type": "stream",
          "name": "stdout",
          "text": [
            "Test preprocessing...\n",
            "\n",
            "\u001b[34m\u001b[1mwandb\u001b[0m: Currently logged in as: \u001b[33mgritsay\u001b[0m. Use \u001b[1m`wandb login --relogin`\u001b[0m to force relogin\n",
            "\u001b[34m\u001b[1mwandb\u001b[0m: Tracking run with wandb version 0.12.21\n",
            "\u001b[34m\u001b[1mwandb\u001b[0m: Run data is saved locally in \u001b[35m\u001b[1m./logging/wandb/run-20220710_155954-1orlf1h1\u001b[0m\n",
            "\u001b[34m\u001b[1mwandb\u001b[0m: Run \u001b[1m`wandb offline`\u001b[0m to turn off syncing.\n",
            "\u001b[34m\u001b[1mwandb\u001b[0m: Syncing run \u001b[33mefficient-pond-17\u001b[0m\n",
            "\u001b[34m\u001b[1mwandb\u001b[0m: ⭐️ View project at \u001b[34m\u001b[4mhttps://wandb.ai/gritsay/Segmentation-Texts\u001b[0m\n",
            "\u001b[34m\u001b[1mwandb\u001b[0m: 🚀 View run at \u001b[34m\u001b[4mhttps://wandb.ai/gritsay/Segmentation-Texts/runs/1orlf1h1\u001b[0m\n",
            "100% 1394/1394 [11:31<00:00,  2.02it/s]\n",
            "100% 155/155 [01:16<00:00,  2.03it/s]\n",
            "100% 274/274 [02:15<00:00,  2.02it/s]\n",
            "Testing process start!\n",
            "\n",
            "GPU available: True, used: True\n",
            "TPU available: False, using: 0 TPU cores\n",
            "IPU available: False, using: 0 IPUs\n",
            "HPU available: False, using: 0 HPUs\n",
            "LOCAL_RANK: 0 - CUDA_VISIBLE_DEVICES: [0]\n",
            "Testing DataLoader 0: 100% 274/274 [00:03<00:00, 79.97it/s]\n",
            "────────────────────────────────────────────────────────────────────────────────────────────────────────────────────────\n",
            "       Test metric             DataLoader 0\n",
            "────────────────────────────────────────────────────────────────────────────────────────────────────────────────────────\n",
            "        test_acc             91.87010462523584\n",
            "         test_f1             0.675100400768751\n",
            "        test_loss            0.675410807132721\n",
            "────────────────────────────────────────────────────────────────────────────────────────────────────────────────────────\n",
            "\u001b[34m\u001b[1mwandb\u001b[0m: Waiting for W&B process to finish... \u001b[32m(success).\u001b[0m\n",
            "\u001b[34m\u001b[1mwandb\u001b[0m:                                                                                \n",
            "\u001b[34m\u001b[1mwandb\u001b[0m: \n",
            "\u001b[34m\u001b[1mwandb\u001b[0m: Run history:\n",
            "\u001b[34m\u001b[1mwandb\u001b[0m:               epoch ▁\n",
            "\u001b[34m\u001b[1mwandb\u001b[0m:            test_acc ▁\n",
            "\u001b[34m\u001b[1mwandb\u001b[0m:             test_f1 ▁\n",
            "\u001b[34m\u001b[1mwandb\u001b[0m:           test_loss ▁\n",
            "\u001b[34m\u001b[1mwandb\u001b[0m: trainer/global_step ▁\n",
            "\u001b[34m\u001b[1mwandb\u001b[0m: \n",
            "\u001b[34m\u001b[1mwandb\u001b[0m: Run summary:\n",
            "\u001b[34m\u001b[1mwandb\u001b[0m:               epoch 0\n",
            "\u001b[34m\u001b[1mwandb\u001b[0m:            test_acc 91.8701\n",
            "\u001b[34m\u001b[1mwandb\u001b[0m:             test_f1 0.6751\n",
            "\u001b[34m\u001b[1mwandb\u001b[0m:           test_loss 0.67541\n",
            "\u001b[34m\u001b[1mwandb\u001b[0m: trainer/global_step 0\n",
            "\u001b[34m\u001b[1mwandb\u001b[0m: \n",
            "\u001b[34m\u001b[1mwandb\u001b[0m: Synced \u001b[33mefficient-pond-17\u001b[0m: \u001b[34m\u001b[4mhttps://wandb.ai/gritsay/Segmentation-Texts/runs/1orlf1h1\u001b[0m\n",
            "\u001b[34m\u001b[1mwandb\u001b[0m: Synced 5 W&B file(s), 0 media file(s), 0 artifact file(s) and 0 other file(s)\n",
            "\u001b[34m\u001b[1mwandb\u001b[0m: Find logs at: \u001b[35m\u001b[1m./logging/wandb/run-20220710_155954-1orlf1h1/logs\u001b[0m\n"
          ]
        }
      ]
    },
    {
      "cell_type": "markdown",
      "source": [
        "### 2.3) LaBSE + Bi-LSTM"
      ],
      "metadata": {
        "id": "O5vi74m6GIsl"
      }
    },
    {
      "cell_type": "markdown",
      "source": [
        "Третий подход - оставляем для получения эмбеддингов предложений LaBSE энкодер, а вот модель с классификатором теперь будет BiLSTM. BiLSTM проявляет себя лучше на текстах, где длина последовательности много больше вектора скрытого представления."
      ],
      "metadata": {
        "id": "fPTtfkTS4Zb0"
      }
    },
    {
      "cell_type": "markdown",
      "source": [
        "Итак, [LaBSE](https://github.com/grgera/Text-Segmentation/blob/main/sentence_embeddings/labse.py) + [BiLSTM](https://github.com/grgera/Text-Segmentation/blob/main/models/bilstm.py) классификация на 3 класса."
      ],
      "metadata": {
        "id": "HAb4wfWu5Ls3"
      }
    },
    {
      "cell_type": "code",
      "source": [
        "! python train.py --config config.yaml --emb_type 'LABSE' --sec_model 'LSTM'"
      ],
      "metadata": {
        "id": "AIrtVTTKRjk0"
      },
      "execution_count": null,
      "outputs": []
    },
    {
      "cell_type": "markdown",
      "source": [
        "Посмотреть на графики обучения можно в отчете на [Weights&Biases](https://wandb.ai/gritsay/Segmentation-Texts/reports/LaBSE-BiLSTM-on-3-classes---VmlldzoyMjk1Mjg0?accessToken=kx203xml7ueluui8qcfuxzb03gbla3updv94f0fa08r5j0nuyh0mv8pwv6y2z6ch)"
      ],
      "metadata": {
        "id": "QSr-Qo7e0UDL"
      }
    },
    {
      "cell_type": "code",
      "source": [
        "! python test.py --config config.yaml --emb_type 'LABSE' --sec_model 'LSTM'"
      ],
      "metadata": {
        "id": "_GdObYbaT2GH",
        "colab": {
          "base_uri": "https://localhost:8080/"
        },
        "outputId": "b4698807-5a59-45fc-9480-b95bf24ae926"
      },
      "execution_count": null,
      "outputs": [
        {
          "output_type": "stream",
          "name": "stdout",
          "text": [
            "Test preprocessing...\n",
            "\n",
            "\u001b[34m\u001b[1mwandb\u001b[0m: Currently logged in as: \u001b[33mgritsay\u001b[0m. Use \u001b[1m`wandb login --relogin`\u001b[0m to force relogin\n",
            "\u001b[34m\u001b[1mwandb\u001b[0m: Tracking run with wandb version 0.12.21\n",
            "\u001b[34m\u001b[1mwandb\u001b[0m: Run data is saved locally in \u001b[35m\u001b[1m./logging/wandb/run-20220710_202828-hbs7vpn7\u001b[0m\n",
            "\u001b[34m\u001b[1mwandb\u001b[0m: Run \u001b[1m`wandb offline`\u001b[0m to turn off syncing.\n",
            "\u001b[34m\u001b[1mwandb\u001b[0m: Syncing run \u001b[33mcrisp-fire-22\u001b[0m\n",
            "\u001b[34m\u001b[1mwandb\u001b[0m: ⭐️ View project at \u001b[34m\u001b[4mhttps://wandb.ai/gritsay/Segmentation-Texts\u001b[0m\n",
            "\u001b[34m\u001b[1mwandb\u001b[0m: 🚀 View run at \u001b[34m\u001b[4mhttps://wandb.ai/gritsay/Segmentation-Texts/runs/hbs7vpn7\u001b[0m\n",
            "Testing process start!\n",
            "\n",
            "GPU available: True, used: True\n",
            "TPU available: False, using: 0 TPU cores\n",
            "IPU available: False, using: 0 IPUs\n",
            "HPU available: False, using: 0 HPUs\n",
            "LOCAL_RANK: 0 - CUDA_VISIBLE_DEVICES: [0]\n",
            "Testing DataLoader 0: 100% 274/274 [00:53<00:00,  5.08it/s]\n",
            "────────────────────────────────────────────────────────────────────────────────────────────────────────────────────────\n",
            "       Test metric             DataLoader 0\n",
            "────────────────────────────────────────────────────────────────────────────────────────────────────────────────────────\n",
            "        test_acc             68.25796123720771\n",
            "         test_f1             68.25796123720771\n",
            "        test_loss            0.743399441242218\n",
            "────────────────────────────────────────────────────────────────────────────────────────────────────────────────────────\n",
            "\u001b[34m\u001b[1mwandb\u001b[0m: Waiting for W&B process to finish... \u001b[32m(success).\u001b[0m\n",
            "\u001b[34m\u001b[1mwandb\u001b[0m:                                                                                \n",
            "\u001b[34m\u001b[1mwandb\u001b[0m: \n",
            "\u001b[34m\u001b[1mwandb\u001b[0m: Run history:\n",
            "\u001b[34m\u001b[1mwandb\u001b[0m:               epoch ▁\n",
            "\u001b[34m\u001b[1mwandb\u001b[0m:            test_acc ▁\n",
            "\u001b[34m\u001b[1mwandb\u001b[0m:             test_f1 ▁\n",
            "\u001b[34m\u001b[1mwandb\u001b[0m:           test_loss ▁\n",
            "\u001b[34m\u001b[1mwandb\u001b[0m: trainer/global_step ▁\n",
            "\u001b[34m\u001b[1mwandb\u001b[0m: \n",
            "\u001b[34m\u001b[1mwandb\u001b[0m: Run summary:\n",
            "\u001b[34m\u001b[1mwandb\u001b[0m:               epoch 0\n",
            "\u001b[34m\u001b[1mwandb\u001b[0m:            test_acc 68.25796\n",
            "\u001b[34m\u001b[1mwandb\u001b[0m:             test_f1 68.25796\n",
            "\u001b[34m\u001b[1mwandb\u001b[0m:           test_loss 0.7434\n",
            "\u001b[34m\u001b[1mwandb\u001b[0m: trainer/global_step 0\n",
            "\u001b[34m\u001b[1mwandb\u001b[0m: \n",
            "\u001b[34m\u001b[1mwandb\u001b[0m: Synced \u001b[33mcrisp-fire-22\u001b[0m: \u001b[34m\u001b[4mhttps://wandb.ai/gritsay/Segmentation-Texts/runs/hbs7vpn7\u001b[0m\n",
            "\u001b[34m\u001b[1mwandb\u001b[0m: Synced 5 W&B file(s), 0 media file(s), 0 artifact file(s) and 0 other file(s)\n",
            "\u001b[34m\u001b[1mwandb\u001b[0m: Find logs at: \u001b[35m\u001b[1m./logging/wandb/run-20220710_202828-hbs7vpn7/logs\u001b[0m\n"
          ]
        }
      ]
    },
    {
      "cell_type": "markdown",
      "source": [
        "Теперь посмотрим на две модели той же архитектуры, но с бинарной классификацией. Сначала это будет модель для абзацев, затем для секций. Здесь тоже используются веса классов для функции потерь."
      ],
      "metadata": {
        "id": "_v07V51-T6dm"
      }
    },
    {
      "cell_type": "code",
      "source": [
        "! python train.py --config config.yaml --emb_type 'LABSE' --binary_mode 'paragraph' --sec_model 'LSTM'"
      ],
      "metadata": {
        "id": "tEfNDI2JT-_s"
      },
      "execution_count": null,
      "outputs": []
    },
    {
      "cell_type": "markdown",
      "source": [
        "Посмотреть на графики обучения можно в отчете на [Weights&Biases](https://wandb.ai/gritsay/Segmentation-Texts/reports/LaBSE-BiLSTM-on-2-classes-paragraph---VmlldzoyMjk1MzI0?accessToken=kmsaz7w1s5bsyrny5l7w1b2qgdjsjijbw13hcuhjrk0wiqn0r2j5nolv0fusqc8l)"
      ],
      "metadata": {
        "id": "IDJAhYcA463R"
      }
    },
    {
      "cell_type": "code",
      "source": [
        "! python test.py --config config.yaml --emb_type 'LABSE' --binary_mode 'paragraph' --sec_model 'LSTM'"
      ],
      "metadata": {
        "id": "3BvpoCxPUS2r",
        "colab": {
          "base_uri": "https://localhost:8080/"
        },
        "outputId": "cd51929a-09e5-4f7f-d271-51ba0fceaacc"
      },
      "execution_count": null,
      "outputs": [
        {
          "output_type": "stream",
          "name": "stdout",
          "text": [
            "Test preprocessing...\n",
            "\n",
            "\u001b[34m\u001b[1mwandb\u001b[0m: Currently logged in as: \u001b[33mgritsay\u001b[0m. Use \u001b[1m`wandb login --relogin`\u001b[0m to force relogin\n",
            "\u001b[34m\u001b[1mwandb\u001b[0m: Tracking run with wandb version 0.12.21\n",
            "\u001b[34m\u001b[1mwandb\u001b[0m: Run data is saved locally in \u001b[35m\u001b[1m./logging/wandb/run-20220710_205519-16v16h1z\u001b[0m\n",
            "\u001b[34m\u001b[1mwandb\u001b[0m: Run \u001b[1m`wandb offline`\u001b[0m to turn off syncing.\n",
            "\u001b[34m\u001b[1mwandb\u001b[0m: Syncing run \u001b[33mcurious-pyramid-24\u001b[0m\n",
            "\u001b[34m\u001b[1mwandb\u001b[0m: ⭐️ View project at \u001b[34m\u001b[4mhttps://wandb.ai/gritsay/Segmentation-Texts\u001b[0m\n",
            "\u001b[34m\u001b[1mwandb\u001b[0m: 🚀 View run at \u001b[34m\u001b[4mhttps://wandb.ai/gritsay/Segmentation-Texts/runs/16v16h1z\u001b[0m\n",
            "Testing process start!\n",
            "\n",
            "GPU available: True, used: True\n",
            "TPU available: False, using: 0 TPU cores\n",
            "IPU available: False, using: 0 IPUs\n",
            "HPU available: False, using: 0 HPUs\n",
            "LOCAL_RANK: 0 - CUDA_VISIBLE_DEVICES: [0]\n",
            "Testing DataLoader 0: 100% 274/274 [00:54<00:00,  5.05it/s]\n",
            "────────────────────────────────────────────────────────────────────────────────────────────────────────────────────────\n",
            "       Test metric             DataLoader 0\n",
            "────────────────────────────────────────────────────────────────────────────────────────────────────────────────────────\n",
            "        test_acc             71.45389057229433\n",
            "         test_f1                    0.0\n",
            "        test_loss            0.598584771156311\n",
            "────────────────────────────────────────────────────────────────────────────────────────────────────────────────────────\n",
            "\u001b[34m\u001b[1mwandb\u001b[0m: Waiting for W&B process to finish... \u001b[32m(success).\u001b[0m\n",
            "\u001b[34m\u001b[1mwandb\u001b[0m:                                                                                \n",
            "\u001b[34m\u001b[1mwandb\u001b[0m: \n",
            "\u001b[34m\u001b[1mwandb\u001b[0m: Run history:\n",
            "\u001b[34m\u001b[1mwandb\u001b[0m:               epoch ▁\n",
            "\u001b[34m\u001b[1mwandb\u001b[0m:            test_acc ▁\n",
            "\u001b[34m\u001b[1mwandb\u001b[0m:             test_f1 ▁\n",
            "\u001b[34m\u001b[1mwandb\u001b[0m:           test_loss ▁\n",
            "\u001b[34m\u001b[1mwandb\u001b[0m: trainer/global_step ▁\n",
            "\u001b[34m\u001b[1mwandb\u001b[0m: \n",
            "\u001b[34m\u001b[1mwandb\u001b[0m: Run summary:\n",
            "\u001b[34m\u001b[1mwandb\u001b[0m:               epoch 0\n",
            "\u001b[34m\u001b[1mwandb\u001b[0m:            test_acc 71.45389\n",
            "\u001b[34m\u001b[1mwandb\u001b[0m:             test_f1 0.0\n",
            "\u001b[34m\u001b[1mwandb\u001b[0m:           test_loss 0.59858\n",
            "\u001b[34m\u001b[1mwandb\u001b[0m: trainer/global_step 0\n",
            "\u001b[34m\u001b[1mwandb\u001b[0m: \n",
            "\u001b[34m\u001b[1mwandb\u001b[0m: Synced \u001b[33mcurious-pyramid-24\u001b[0m: \u001b[34m\u001b[4mhttps://wandb.ai/gritsay/Segmentation-Texts/runs/16v16h1z\u001b[0m\n",
            "\u001b[34m\u001b[1mwandb\u001b[0m: Synced 5 W&B file(s), 0 media file(s), 0 artifact file(s) and 0 other file(s)\n",
            "\u001b[34m\u001b[1mwandb\u001b[0m: Find logs at: \u001b[35m\u001b[1m./logging/wandb/run-20220710_205519-16v16h1z/logs\u001b[0m\n"
          ]
        }
      ]
    },
    {
      "cell_type": "code",
      "source": [
        "! python train.py --config config.yaml --emb_type 'LABSE' --binary_mode 'section' --sec_model 'LSTM'"
      ],
      "metadata": {
        "id": "p2xAWRIqUVom"
      },
      "execution_count": null,
      "outputs": []
    },
    {
      "cell_type": "markdown",
      "source": [
        "Посмотреть на графики обучения можно в отчете на [Weights&Biases](https://wandb.ai/gritsay/Segmentation-Texts/reports/LaBSE-BiLSTM-on-2-classes-section---VmlldzoyMjk1NTEw?accessToken=bvaz05ehztxek2hoeauy4jx00m4o0kdos2a761m8twjcs4dv0d1lyzjm0yhw8gw5)"
      ],
      "metadata": {
        "id": "WPpcvBTeLpCg"
      }
    },
    {
      "cell_type": "code",
      "source": [
        "! python test.py --config config.yaml --emb_type 'LABSE' --binary_mode 'section' --sec_model 'LSTM'"
      ],
      "metadata": {
        "id": "1K7L_IDzUd90",
        "colab": {
          "base_uri": "https://localhost:8080/"
        },
        "outputId": "4ddcfa82-c685-4ec9-be20-115144565fc9"
      },
      "execution_count": 13,
      "outputs": [
        {
          "output_type": "stream",
          "name": "stdout",
          "text": [
            "Test preprocessing...\n",
            "\n",
            "\u001b[34m\u001b[1mwandb\u001b[0m: Currently logged in as: \u001b[33mgritsay\u001b[0m. Use \u001b[1m`wandb login --relogin`\u001b[0m to force relogin\n",
            "\u001b[34m\u001b[1mwandb\u001b[0m: Tracking run with wandb version 0.12.21\n",
            "\u001b[34m\u001b[1mwandb\u001b[0m: Run data is saved locally in \u001b[35m\u001b[1m./logging/wandb/run-20220710_223126-1f19m1gy\u001b[0m\n",
            "\u001b[34m\u001b[1mwandb\u001b[0m: Run \u001b[1m`wandb offline`\u001b[0m to turn off syncing.\n",
            "\u001b[34m\u001b[1mwandb\u001b[0m: Syncing run \u001b[33mfearless-blaze-26\u001b[0m\n",
            "\u001b[34m\u001b[1mwandb\u001b[0m: ⭐️ View project at \u001b[34m\u001b[4mhttps://wandb.ai/gritsay/Segmentation-Texts\u001b[0m\n",
            "\u001b[34m\u001b[1mwandb\u001b[0m: 🚀 View run at \u001b[34m\u001b[4mhttps://wandb.ai/gritsay/Segmentation-Texts/runs/1f19m1gy\u001b[0m\n",
            "Testing process start!\n",
            "\n",
            "GPU available: True, used: True\n",
            "TPU available: False, using: 0 TPU cores\n",
            "IPU available: False, using: 0 IPUs\n",
            "HPU available: False, using: 0 HPUs\n",
            "LOCAL_RANK: 0 - CUDA_VISIBLE_DEVICES: [0]\n",
            "Testing DataLoader 0: 100% 274/274 [00:55<00:00,  4.93it/s]\n",
            "────────────────────────────────────────────────────────────────────────────────────────────────────────────────────────\n",
            "       Test metric             DataLoader 0\n",
            "────────────────────────────────────────────────────────────────────────────────────────────────────────────────────────\n",
            "        test_acc             96.80407066491338\n",
            "         test_f1                    0.0\n",
            "        test_loss           0.15895983576774597\n",
            "────────────────────────────────────────────────────────────────────────────────────────────────────────────────────────\n",
            "\u001b[34m\u001b[1mwandb\u001b[0m: Waiting for W&B process to finish... \u001b[32m(success).\u001b[0m\n",
            "\u001b[34m\u001b[1mwandb\u001b[0m:                                                                                \n",
            "\u001b[34m\u001b[1mwandb\u001b[0m: \n",
            "\u001b[34m\u001b[1mwandb\u001b[0m: Run history:\n",
            "\u001b[34m\u001b[1mwandb\u001b[0m:               epoch ▁\n",
            "\u001b[34m\u001b[1mwandb\u001b[0m:            test_acc ▁\n",
            "\u001b[34m\u001b[1mwandb\u001b[0m:             test_f1 ▁\n",
            "\u001b[34m\u001b[1mwandb\u001b[0m:           test_loss ▁\n",
            "\u001b[34m\u001b[1mwandb\u001b[0m: trainer/global_step ▁\n",
            "\u001b[34m\u001b[1mwandb\u001b[0m: \n",
            "\u001b[34m\u001b[1mwandb\u001b[0m: Run summary:\n",
            "\u001b[34m\u001b[1mwandb\u001b[0m:               epoch 0\n",
            "\u001b[34m\u001b[1mwandb\u001b[0m:            test_acc 96.80407\n",
            "\u001b[34m\u001b[1mwandb\u001b[0m:             test_f1 0.0\n",
            "\u001b[34m\u001b[1mwandb\u001b[0m:           test_loss 0.15896\n",
            "\u001b[34m\u001b[1mwandb\u001b[0m: trainer/global_step 0\n",
            "\u001b[34m\u001b[1mwandb\u001b[0m: \n",
            "\u001b[34m\u001b[1mwandb\u001b[0m: Synced \u001b[33mfearless-blaze-26\u001b[0m: \u001b[34m\u001b[4mhttps://wandb.ai/gritsay/Segmentation-Texts/runs/1f19m1gy\u001b[0m\n",
            "\u001b[34m\u001b[1mwandb\u001b[0m: Synced 5 W&B file(s), 0 media file(s), 0 artifact file(s) and 0 other file(s)\n",
            "\u001b[34m\u001b[1mwandb\u001b[0m: Find logs at: \u001b[35m\u001b[1m./logging/wandb/run-20220710_223126-1f19m1gy/logs\u001b[0m\n"
          ]
        }
      ]
    },
    {
      "cell_type": "markdown",
      "source": [
        "## 3). Анализ полученных результатов"
      ],
      "metadata": {
        "id": "-aIcSa3T5ypY"
      }
    },
    {
      "cell_type": "markdown",
      "source": [
        "Результаты обучения в сводной таблице, метрика `accuracy_score`."
      ],
      "metadata": {
        "id": "5CroobfOBTGm"
      }
    },
    {
      "cell_type": "code",
      "source": [
        "df1 = pd.DataFrame({'SBERT+BERT': [69.07, 58.49, 84.51], 'LaBSE+BERT': [70.39, 28.54, 91.87], 'LaBSE+BiLSTM': [68.25, 71.45, 96.80],\n",
        "                    'Task': ['3 labels', '2 labels (paragraph)', '2 labels (section)']})\n",
        "pd.pivot_table(df1, index='Task')"
      ],
      "metadata": {
        "colab": {
          "base_uri": "https://localhost:8080/",
          "height": 175
        },
        "id": "1rnkThAp7f59",
        "outputId": "5b54d4f0-b83b-45d7-e127-294a364547b9"
      },
      "execution_count": 14,
      "outputs": [
        {
          "output_type": "execute_result",
          "data": {
            "text/plain": [
              "                      LaBSE+BERT  LaBSE+BiLSTM  SBERT+BERT\n",
              "Task                                                      \n",
              "2 labels (paragraph)       28.54         71.45       58.49\n",
              "2 labels (section)         91.87         96.80       84.51\n",
              "3 labels                   70.39         68.25       69.07"
            ],
            "text/html": [
              "\n",
              "  <div id=\"df-6935bf0f-9416-4922-ac1a-8f3bc44d31a5\">\n",
              "    <div class=\"colab-df-container\">\n",
              "      <div>\n",
              "<style scoped>\n",
              "    .dataframe tbody tr th:only-of-type {\n",
              "        vertical-align: middle;\n",
              "    }\n",
              "\n",
              "    .dataframe tbody tr th {\n",
              "        vertical-align: top;\n",
              "    }\n",
              "\n",
              "    .dataframe thead th {\n",
              "        text-align: right;\n",
              "    }\n",
              "</style>\n",
              "<table border=\"1\" class=\"dataframe\">\n",
              "  <thead>\n",
              "    <tr style=\"text-align: right;\">\n",
              "      <th></th>\n",
              "      <th>LaBSE+BERT</th>\n",
              "      <th>LaBSE+BiLSTM</th>\n",
              "      <th>SBERT+BERT</th>\n",
              "    </tr>\n",
              "    <tr>\n",
              "      <th>Task</th>\n",
              "      <th></th>\n",
              "      <th></th>\n",
              "      <th></th>\n",
              "    </tr>\n",
              "  </thead>\n",
              "  <tbody>\n",
              "    <tr>\n",
              "      <th>2 labels (paragraph)</th>\n",
              "      <td>28.54</td>\n",
              "      <td>71.45</td>\n",
              "      <td>58.49</td>\n",
              "    </tr>\n",
              "    <tr>\n",
              "      <th>2 labels (section)</th>\n",
              "      <td>91.87</td>\n",
              "      <td>96.80</td>\n",
              "      <td>84.51</td>\n",
              "    </tr>\n",
              "    <tr>\n",
              "      <th>3 labels</th>\n",
              "      <td>70.39</td>\n",
              "      <td>68.25</td>\n",
              "      <td>69.07</td>\n",
              "    </tr>\n",
              "  </tbody>\n",
              "</table>\n",
              "</div>\n",
              "      <button class=\"colab-df-convert\" onclick=\"convertToInteractive('df-6935bf0f-9416-4922-ac1a-8f3bc44d31a5')\"\n",
              "              title=\"Convert this dataframe to an interactive table.\"\n",
              "              style=\"display:none;\">\n",
              "        \n",
              "  <svg xmlns=\"http://www.w3.org/2000/svg\" height=\"24px\"viewBox=\"0 0 24 24\"\n",
              "       width=\"24px\">\n",
              "    <path d=\"M0 0h24v24H0V0z\" fill=\"none\"/>\n",
              "    <path d=\"M18.56 5.44l.94 2.06.94-2.06 2.06-.94-2.06-.94-.94-2.06-.94 2.06-2.06.94zm-11 1L8.5 8.5l.94-2.06 2.06-.94-2.06-.94L8.5 2.5l-.94 2.06-2.06.94zm10 10l.94 2.06.94-2.06 2.06-.94-2.06-.94-.94-2.06-.94 2.06-2.06.94z\"/><path d=\"M17.41 7.96l-1.37-1.37c-.4-.4-.92-.59-1.43-.59-.52 0-1.04.2-1.43.59L10.3 9.45l-7.72 7.72c-.78.78-.78 2.05 0 2.83L4 21.41c.39.39.9.59 1.41.59.51 0 1.02-.2 1.41-.59l7.78-7.78 2.81-2.81c.8-.78.8-2.07 0-2.86zM5.41 20L4 18.59l7.72-7.72 1.47 1.35L5.41 20z\"/>\n",
              "  </svg>\n",
              "      </button>\n",
              "      \n",
              "  <style>\n",
              "    .colab-df-container {\n",
              "      display:flex;\n",
              "      flex-wrap:wrap;\n",
              "      gap: 12px;\n",
              "    }\n",
              "\n",
              "    .colab-df-convert {\n",
              "      background-color: #E8F0FE;\n",
              "      border: none;\n",
              "      border-radius: 50%;\n",
              "      cursor: pointer;\n",
              "      display: none;\n",
              "      fill: #1967D2;\n",
              "      height: 32px;\n",
              "      padding: 0 0 0 0;\n",
              "      width: 32px;\n",
              "    }\n",
              "\n",
              "    .colab-df-convert:hover {\n",
              "      background-color: #E2EBFA;\n",
              "      box-shadow: 0px 1px 2px rgba(60, 64, 67, 0.3), 0px 1px 3px 1px rgba(60, 64, 67, 0.15);\n",
              "      fill: #174EA6;\n",
              "    }\n",
              "\n",
              "    [theme=dark] .colab-df-convert {\n",
              "      background-color: #3B4455;\n",
              "      fill: #D2E3FC;\n",
              "    }\n",
              "\n",
              "    [theme=dark] .colab-df-convert:hover {\n",
              "      background-color: #434B5C;\n",
              "      box-shadow: 0px 1px 3px 1px rgba(0, 0, 0, 0.15);\n",
              "      filter: drop-shadow(0px 1px 2px rgba(0, 0, 0, 0.3));\n",
              "      fill: #FFFFFF;\n",
              "    }\n",
              "  </style>\n",
              "\n",
              "      <script>\n",
              "        const buttonEl =\n",
              "          document.querySelector('#df-6935bf0f-9416-4922-ac1a-8f3bc44d31a5 button.colab-df-convert');\n",
              "        buttonEl.style.display =\n",
              "          google.colab.kernel.accessAllowed ? 'block' : 'none';\n",
              "\n",
              "        async function convertToInteractive(key) {\n",
              "          const element = document.querySelector('#df-6935bf0f-9416-4922-ac1a-8f3bc44d31a5');\n",
              "          const dataTable =\n",
              "            await google.colab.kernel.invokeFunction('convertToInteractive',\n",
              "                                                     [key], {});\n",
              "          if (!dataTable) return;\n",
              "\n",
              "          const docLinkHtml = 'Like what you see? Visit the ' +\n",
              "            '<a target=\"_blank\" href=https://colab.research.google.com/notebooks/data_table.ipynb>data table notebook</a>'\n",
              "            + ' to learn more about interactive tables.';\n",
              "          element.innerHTML = '';\n",
              "          dataTable['output_type'] = 'display_data';\n",
              "          await google.colab.output.renderOutput(dataTable, element);\n",
              "          const docLink = document.createElement('div');\n",
              "          docLink.innerHTML = docLinkHtml;\n",
              "          element.appendChild(docLink);\n",
              "        }\n",
              "      </script>\n",
              "    </div>\n",
              "  </div>\n",
              "  "
            ]
          },
          "metadata": {},
          "execution_count": 14
        }
      ]
    },
    {
      "cell_type": "markdown",
      "source": [
        "Результаты обучения в сводной таблице, метрика `f1_score`."
      ],
      "metadata": {
        "id": "qUkbSYpMBbYf"
      }
    },
    {
      "cell_type": "code",
      "source": [
        "df2 = pd.DataFrame({'SBERT+BERT': [69.07, 46.62, 13.97], 'LaBSE+BERT': [70.39, 43.92, 0.67], 'LaBSE+BiLSTM': [68.25,  0, 0],\n",
        "                    'Task': ['3 labels', '2 labels (paragraph)', '2 labels (section)']})\n",
        "pd.pivot_table(df2, index='Task')"
      ],
      "metadata": {
        "colab": {
          "base_uri": "https://localhost:8080/",
          "height": 175
        },
        "id": "NEEP9GQo-NMj",
        "outputId": "fe3945d9-06fe-4a40-9504-7b13f754bba2"
      },
      "execution_count": 15,
      "outputs": [
        {
          "output_type": "execute_result",
          "data": {
            "text/plain": [
              "                      LaBSE+BERT  LaBSE+BiLSTM  SBERT+BERT\n",
              "Task                                                      \n",
              "2 labels (paragraph)       43.92          0.00       46.62\n",
              "2 labels (section)          0.67          0.00       13.97\n",
              "3 labels                   70.39         68.25       69.07"
            ],
            "text/html": [
              "\n",
              "  <div id=\"df-22fc1d88-8fec-4639-a6a2-3b415cd65aea\">\n",
              "    <div class=\"colab-df-container\">\n",
              "      <div>\n",
              "<style scoped>\n",
              "    .dataframe tbody tr th:only-of-type {\n",
              "        vertical-align: middle;\n",
              "    }\n",
              "\n",
              "    .dataframe tbody tr th {\n",
              "        vertical-align: top;\n",
              "    }\n",
              "\n",
              "    .dataframe thead th {\n",
              "        text-align: right;\n",
              "    }\n",
              "</style>\n",
              "<table border=\"1\" class=\"dataframe\">\n",
              "  <thead>\n",
              "    <tr style=\"text-align: right;\">\n",
              "      <th></th>\n",
              "      <th>LaBSE+BERT</th>\n",
              "      <th>LaBSE+BiLSTM</th>\n",
              "      <th>SBERT+BERT</th>\n",
              "    </tr>\n",
              "    <tr>\n",
              "      <th>Task</th>\n",
              "      <th></th>\n",
              "      <th></th>\n",
              "      <th></th>\n",
              "    </tr>\n",
              "  </thead>\n",
              "  <tbody>\n",
              "    <tr>\n",
              "      <th>2 labels (paragraph)</th>\n",
              "      <td>43.92</td>\n",
              "      <td>0.00</td>\n",
              "      <td>46.62</td>\n",
              "    </tr>\n",
              "    <tr>\n",
              "      <th>2 labels (section)</th>\n",
              "      <td>0.67</td>\n",
              "      <td>0.00</td>\n",
              "      <td>13.97</td>\n",
              "    </tr>\n",
              "    <tr>\n",
              "      <th>3 labels</th>\n",
              "      <td>70.39</td>\n",
              "      <td>68.25</td>\n",
              "      <td>69.07</td>\n",
              "    </tr>\n",
              "  </tbody>\n",
              "</table>\n",
              "</div>\n",
              "      <button class=\"colab-df-convert\" onclick=\"convertToInteractive('df-22fc1d88-8fec-4639-a6a2-3b415cd65aea')\"\n",
              "              title=\"Convert this dataframe to an interactive table.\"\n",
              "              style=\"display:none;\">\n",
              "        \n",
              "  <svg xmlns=\"http://www.w3.org/2000/svg\" height=\"24px\"viewBox=\"0 0 24 24\"\n",
              "       width=\"24px\">\n",
              "    <path d=\"M0 0h24v24H0V0z\" fill=\"none\"/>\n",
              "    <path d=\"M18.56 5.44l.94 2.06.94-2.06 2.06-.94-2.06-.94-.94-2.06-.94 2.06-2.06.94zm-11 1L8.5 8.5l.94-2.06 2.06-.94-2.06-.94L8.5 2.5l-.94 2.06-2.06.94zm10 10l.94 2.06.94-2.06 2.06-.94-2.06-.94-.94-2.06-.94 2.06-2.06.94z\"/><path d=\"M17.41 7.96l-1.37-1.37c-.4-.4-.92-.59-1.43-.59-.52 0-1.04.2-1.43.59L10.3 9.45l-7.72 7.72c-.78.78-.78 2.05 0 2.83L4 21.41c.39.39.9.59 1.41.59.51 0 1.02-.2 1.41-.59l7.78-7.78 2.81-2.81c.8-.78.8-2.07 0-2.86zM5.41 20L4 18.59l7.72-7.72 1.47 1.35L5.41 20z\"/>\n",
              "  </svg>\n",
              "      </button>\n",
              "      \n",
              "  <style>\n",
              "    .colab-df-container {\n",
              "      display:flex;\n",
              "      flex-wrap:wrap;\n",
              "      gap: 12px;\n",
              "    }\n",
              "\n",
              "    .colab-df-convert {\n",
              "      background-color: #E8F0FE;\n",
              "      border: none;\n",
              "      border-radius: 50%;\n",
              "      cursor: pointer;\n",
              "      display: none;\n",
              "      fill: #1967D2;\n",
              "      height: 32px;\n",
              "      padding: 0 0 0 0;\n",
              "      width: 32px;\n",
              "    }\n",
              "\n",
              "    .colab-df-convert:hover {\n",
              "      background-color: #E2EBFA;\n",
              "      box-shadow: 0px 1px 2px rgba(60, 64, 67, 0.3), 0px 1px 3px 1px rgba(60, 64, 67, 0.15);\n",
              "      fill: #174EA6;\n",
              "    }\n",
              "\n",
              "    [theme=dark] .colab-df-convert {\n",
              "      background-color: #3B4455;\n",
              "      fill: #D2E3FC;\n",
              "    }\n",
              "\n",
              "    [theme=dark] .colab-df-convert:hover {\n",
              "      background-color: #434B5C;\n",
              "      box-shadow: 0px 1px 3px 1px rgba(0, 0, 0, 0.15);\n",
              "      filter: drop-shadow(0px 1px 2px rgba(0, 0, 0, 0.3));\n",
              "      fill: #FFFFFF;\n",
              "    }\n",
              "  </style>\n",
              "\n",
              "      <script>\n",
              "        const buttonEl =\n",
              "          document.querySelector('#df-22fc1d88-8fec-4639-a6a2-3b415cd65aea button.colab-df-convert');\n",
              "        buttonEl.style.display =\n",
              "          google.colab.kernel.accessAllowed ? 'block' : 'none';\n",
              "\n",
              "        async function convertToInteractive(key) {\n",
              "          const element = document.querySelector('#df-22fc1d88-8fec-4639-a6a2-3b415cd65aea');\n",
              "          const dataTable =\n",
              "            await google.colab.kernel.invokeFunction('convertToInteractive',\n",
              "                                                     [key], {});\n",
              "          if (!dataTable) return;\n",
              "\n",
              "          const docLinkHtml = 'Like what you see? Visit the ' +\n",
              "            '<a target=\"_blank\" href=https://colab.research.google.com/notebooks/data_table.ipynb>data table notebook</a>'\n",
              "            + ' to learn more about interactive tables.';\n",
              "          element.innerHTML = '';\n",
              "          dataTable['output_type'] = 'display_data';\n",
              "          await google.colab.output.renderOutput(dataTable, element);\n",
              "          const docLink = document.createElement('div');\n",
              "          docLink.innerHTML = docLinkHtml;\n",
              "          element.appendChild(docLink);\n",
              "        }\n",
              "      </script>\n",
              "    </div>\n",
              "  </div>\n",
              "  "
            ]
          },
          "metadata": {},
          "execution_count": 15
        }
      ]
    },
    {
      "cell_type": "markdown",
      "source": [
        "![image.png](data:image/png;base64,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)"
      ],
      "metadata": {
        "id": "ner0eEYD8yYR"
      }
    },
    {
      "cell_type": "markdown",
      "source": [
        "Результаты намекают на необходимость дальнейших исследований. Я понимаю, что высокий accuracy в некоторых местах, лишь говорит о том, что модель хорошо умеет предсказывать нули... Для предсказания секций, очевидно, нужен более глубокий анализ. Однако, если посмотреть на результаты схожих моделей на англоязычном датасете Wiki-727k, которые были представлены в статье [Text Segmentation by Cross Segment Attention](https://aclanthology.org/2020.emnlp-main.380.pdf), то можно увидеть, что лучшая модель там показала `f1_score = 66.5`. Возможно, всё не так уж и печально."
      ],
      "metadata": {
        "id": "WxgNwczG9ani"
      }
    },
    {
      "cell_type": "markdown",
      "source": [
        "**1). Почему Hierarchical BERT хуже BiLSTM?**\n",
        "- Начать можно со сложности для трансформера это (seq_len^2 * hidden_size), а для LSTM (seq_len * hidden_size^2). Для супер длинных документов, где seq_len будет больше, чем hidden, LSTM будет показывать себя а) быстрее, б) не будет терять контекста, в то время как у траснформера он будет ограничиваться фиксированной длиной. Также в процессе обучения своих моделей, одна из которых была похожа на Hier.Bert, а другая состояла из Bert + BiLSTM я заметил, что параметры первой весили ~340 Mb, в том время как у рекурентной лишь ~27 Mb."
      ],
      "metadata": {
        "id": "ZWilchLYBc0C"
      }
    },
    {
      "cell_type": "markdown",
      "source": [
        "**2). Насколько по размеру отличается lenta от tjournal?**\n",
        "- Я честно пытался найти различия в статьях, но единственные отличительные черты tjournal'a, которые я заметил, так это упоминание самого TJ в их статьях и фразы 'Статья создана участником Лиги авторов' в конце документов."
      ],
      "metadata": {
        "id": "Y5ciJkwMCWt7"
      }
    },
    {
      "cell_type": "markdown",
      "source": [
        "**3). Как делался файнтьюнинг бертов?**\n",
        "- В моих экспериментах fine-tuning проводился над второй частью модели, а именно 'bert-base-uncased'. Я делал его двумя этапами. Первым - замораживал веса самого берта, оставляя тренировать только веса \"головы\"-классификатора.\n",
        "Вторым -  размораживал веса берта и обучал уже их вместе."
      ],
      "metadata": {
        "id": "k-GBO1GOCQ3n"
      }
    },
    {
      "cell_type": "markdown",
      "source": [
        "**4). Как считаются последовательные предложения**?\n",
        "- Я не использовал в своих экспериментах модель Cross-segment Bert. Для того чтобы хоть как-то сохранить последовательность предложений, я не мешал данные при разбиениях."
      ],
      "metadata": {
        "id": "B7695yYPCS6-"
      }
    },
    {
      "cell_type": "markdown",
      "source": [
        "**Что я бы сделал дальше?**\n",
        "- Поиск и тестирование иных энкодеров предложений и их сравнение среди различных сэмплов, к примеру по косинусному расстоянию. \n",
        "- Исследование методов борьбы с сильным дисбалансом классов ~~*когда только приступил к задаче натыкался на статью с описанными методами, но потерял ее :(*~~\n",
        "- Анализ выхода классификаторов, стоит декодировать и посмотреть на  предложения и их предсказанные метки, возможно, как было сказано, метрика не до конца отображает качество разметки.\n",
        "- Ну и из разряда совсем безумных, попробовать кластеризовать каждую статью и внутри кластера уже искать первое предложение абазаца и секции."
      ],
      "metadata": {
        "id": "XPorRvQQ_Nla"
      }
    },
    {
      "cell_type": "code",
      "source": [
        ""
      ],
      "metadata": {
        "id": "n0-KVXyaCSi_"
      },
      "execution_count": null,
      "outputs": []
    }
  ]
}